{
  "cells": [
    {
      "cell_type": "code",
      "execution_count": 1,
      "metadata": {
        "id": "LJxxjS8cS9IL"
      },
      "outputs": [
        {
          "name": "stderr",
          "output_type": "stream",
          "text": [
            "C:\\Users\\akank\\AppData\\Local\\Programs\\Python\\Python310\\lib\\site-packages\\tqdm\\auto.py:22: TqdmWarning: IProgress not found. Please update jupyter and ipywidgets. See https://ipywidgets.readthedocs.io/en/stable/user_install.html\n",
            "  from .autonotebook import tqdm as notebook_tqdm\n"
          ]
        }
      ],
      "source": [
        "import torch\n",
        "import numpy as np\n",
        "from torchvision import datasets\n",
        "import torchvision.transforms as transforms\n",
        "from torch.utils.data.sampler import SubsetRandomSampler\n",
        "import torch.nn as nn"
      ]
    },
    {
      "cell_type": "code",
      "execution_count": 2,
      "metadata": {
        "colab": {
          "base_uri": "https://localhost:8080/"
        },
        "id": "JLP_WnrxTBxN",
        "outputId": "a6be933a-f17a-4821-b3d9-73b5c31976f9"
      },
      "outputs": [
        {
          "name": "stdout",
          "output_type": "stream",
          "text": [
            "CUDA is not available.  Training on CPU ...\n"
          ]
        }
      ],
      "source": [
        "# check if CUDA is available\n",
        "train_on_gpu = torch.cuda.is_available()\n",
        "\n",
        "if not train_on_gpu:\n",
        "    print('CUDA is not available.  Training on CPU ...')\n",
        "else:\n",
        "    print('CUDA is available!  Training on GPU ...')"
      ]
    },
    {
      "cell_type": "code",
      "execution_count": 3,
      "metadata": {
        "colab": {
          "base_uri": "https://localhost:8080/",
          "height": 101,
          "referenced_widgets": [
            "86444d0a928d475e99d3b71adee28bde",
            "8a6165a9642c450785325e26267493b0",
            "1cef08584a454ba5be684c3b854e6466",
            "42610cd6b21044dc95adf01833890dbb",
            "e7d0bf9f63cd40d0acb67d17956e2b6b",
            "a1262de6c4424de7b27cda86a3333aca",
            "d4dbf437d6ef4083adcfa17f9ee0dbc8",
            "3be6be46a7ab4a2fadc81f5dd10d4f0c",
            "e3e7daf2528744bfac0ce5301af7daeb",
            "188074b78a0049b0b0a124ee40f207f3",
            "5d6305e1d7d24f9a85b09775f8eb9ef0"
          ]
        },
        "id": "tpHAGbjCTDfb",
        "outputId": "4cacf67c-0b3e-4d29-c000-a2d47df2ad07"
      },
      "outputs": [
        {
          "name": "stdout",
          "output_type": "stream",
          "text": [
            "Downloading https://www.cs.toronto.edu/~kriz/cifar-10-python.tar.gz to data\\cifar-10-python.tar.gz\n"
          ]
        },
        {
          "name": "stderr",
          "output_type": "stream",
          "text": [
            "100%|██████████| 170498071/170498071 [08:10<00:00, 347482.70it/s]\n"
          ]
        },
        {
          "name": "stdout",
          "output_type": "stream",
          "text": [
            "Extracting data\\cifar-10-python.tar.gz to data\n",
            "Files already downloaded and verified\n"
          ]
        }
      ],
      "source": [
        "# number of subprocesses to use for data loading\n",
        "num_workers = 0\n",
        "\n",
        "# how many samples per batch to load\n",
        "batch_size = 20\n",
        "\n",
        "# percentage of training set to use as validation\n",
        "valid_size = 0.2\n",
        "\n",
        "# convert data to a normalized torch.FloatTensor\n",
        "transform = transforms.Compose([\n",
        "    transforms.ToTensor(),\n",
        "    transforms.Normalize((0.5, 0.5, 0.5), (0.5, 0.5, 0.5))\n",
        "    ])\n",
        "\n",
        "# choose the training and test datasets\n",
        "train_data = datasets.CIFAR10('data', train=True,\n",
        "                              download=True, transform=transform)\n",
        "test_data = datasets.CIFAR10('data', train=False,\n",
        "                             download=True, transform=transform)\n",
        "\n",
        "# obtain training indices that will be used for validation\n",
        "num_train = len(train_data)\n",
        "indices = list(range(num_train))\n",
        "np.random.shuffle(indices)\n",
        "split = int(np.floor(valid_size * num_train))\n",
        "train_idx, valid_idx = indices[split:], indices[:split]\n",
        "\n",
        "# define samplers for obtaining training and validation batches\n",
        "train_sampler = SubsetRandomSampler(train_idx)\n",
        "valid_sampler = SubsetRandomSampler(valid_idx)\n",
        "\n",
        "# prepare data loaders (combine dataset and sampler)\n",
        "train_loader = torch.utils.data.DataLoader(train_data, batch_size=batch_size, sampler=train_sampler, num_workers=num_workers)\n",
        "valid_loader = torch.utils.data.DataLoader(train_data, batch_size=batch_size, sampler=valid_sampler, num_workers=num_workers)\n",
        "test_loader = torch.utils.data.DataLoader(test_data, batch_size=batch_size, num_workers=num_workers)\n",
        "\n",
        "# specify the image classes\n",
        "classes = ['airplane', 'automobile', 'bird', 'cat', 'deer',\n",
        "           'dog', 'frog', 'horse', 'ship', 'truck']"
      ]
    },
    {
      "cell_type": "code",
      "execution_count": 4,
      "metadata": {
        "colab": {
          "base_uri": "https://localhost:8080/",
          "height": 268
        },
        "id": "8fiBw3pYTJRc",
        "outputId": "c26f6226-b02f-474a-f5c7-62bc5243278b"
      },
      "outputs": [
        {
          "data": {
            "image/png": "[encoded data removed]",
            "text/plain": [
              "<Figure size 2500x400 with 20 Axes>"
            ]
          },
          "metadata": {},
          "output_type": "display_data"
        }
      ],
      "source": [
        "import matplotlib.pyplot as plt\n",
        "%matplotlib inline\n",
        "\n",
        "# helper function to un-normalize and display an image\n",
        "def imshow(img):\n",
        "    # unnormalize\n",
        "    img = img / 2 + 0.5\n",
        "    # convert from Tensor image\n",
        "    plt.imshow(np.transpose(img, (1, 2, 0)))\n",
        "\n",
        "# obtain one batch of training images\n",
        "dataiter = iter(train_loader)\n",
        "images, labels = dataiter.next()\n",
        "# convert images to numpy for display\n",
        "images = images.numpy()\n",
        "\n",
        "# plot the images in the batch, along with the corresponding labels\n",
        "fig = plt.figure(figsize=(25, 4))\n",
        "# display 20 images\n",
        "for idx in np.arange(20):\n",
        "  ax = fig.add_subplot(2, int(20/2), idx+1, xticks=[], yticks=[])\n",
        "  imshow(images[idx])\n",
        "  ax.set_title(classes[labels[idx]])  "
      ]
    },
    {
      "cell_type": "code",
      "execution_count": 5,
      "metadata": {
        "colab": {
          "base_uri": "https://localhost:8080/"
        },
        "id": "Ypyz7eLuTNiy",
        "outputId": "e27a4bdc-6f9d-4645-f43e-0bb8efe81815"
      },
      "outputs": [
        {
          "name": "stdout",
          "output_type": "stream",
          "text": [
            "NetA(\n",
            "  (network): Sequential(\n",
            "    (0): Conv2d(3, 32, kernel_size=(3, 3), stride=(1, 1))\n",
            "    (1): MaxPool2d(kernel_size=3, stride=1, padding=0, dilation=1, ceil_mode=False)\n",
            "    (2): Conv2d(32, 64, kernel_size=(3, 3), stride=(1, 1))\n",
            "    (3): MaxPool2d(kernel_size=3, stride=1, padding=0, dilation=1, ceil_mode=False)\n",
            "    (4): Conv2d(64, 128, kernel_size=(3, 3), stride=(1, 1))\n",
            "    (5): MaxPool2d(kernel_size=3, stride=1, padding=0, dilation=1, ceil_mode=False)\n",
            "    (6): Flatten(start_dim=1, end_dim=-1)\n",
            "    (7): Linear(in_features=51200, out_features=10, bias=True)\n",
            "  )\n",
            ")\n"
          ]
        }
      ],
      "source": [
        "\"\"\" \n",
        "      PART-A : CONV-POOL-CONV-POOL-CONV-POOL-FC\n",
        "\"\"\"\n",
        "\n",
        "class NetA(nn.Module):\n",
        "  def __init__(self):\n",
        "    super().__init__()\n",
        "    self.network=nn.Sequential(\n",
        "        nn.Conv2d(3, 32, kernel_size=3, stride=1),\n",
        "        nn.MaxPool2d(3, stride=1),\n",
        "        nn.Conv2d(32,64,kernel_size=3, stride=1),\n",
        "        nn.MaxPool2d(3, stride=1),\n",
        "        nn.Conv2d(64,128,kernel_size=3, stride=1),\n",
        "        nn.MaxPool2d(3, stride=1),\n",
        "        nn.Flatten(),\n",
        "        nn.Linear(51200,10))\n",
        "        \n",
        "  def forward(self, x):\n",
        "    return self.network(x)\n",
        "\n",
        "#Creating a CNN architecture\n",
        "modelA = NetA()\n",
        "print(modelA)\n",
        "\n",
        "if train_on_gpu:\n",
        "  modelA.cuda()"
      ]
    },
    {
      "cell_type": "code",
      "execution_count": 6,
      "metadata": {
        "colab": {
          "base_uri": "https://localhost:8080/"
        },
        "id": "MyZRU14ZTT0s",
        "outputId": "09c50e89-f137-47d6-d2a8-2ebee4483185"
      },
      "outputs": [
        {
          "name": "stdout",
          "output_type": "stream",
          "text": [
            "Epoch: 1 \tTraining Loss: 1.163150 \tValidation Loss: 0.250418\n",
            "Epoch: 2 \tTraining Loss: 0.934312 \tValidation Loss: 0.238831\n",
            "Epoch: 3 \tTraining Loss: 0.857507 \tValidation Loss: 0.221316\n",
            "Epoch: 4 \tTraining Loss: 0.811854 \tValidation Loss: 0.205390\n",
            "Epoch: 5 \tTraining Loss: 0.770790 \tValidation Loss: 0.214200\n",
            "Epoch: 6 \tTraining Loss: 0.737296 \tValidation Loss: 0.196623\n",
            "Epoch: 7 \tTraining Loss: 0.703262 \tValidation Loss: 0.209357\n",
            "Epoch: 8 \tTraining Loss: 0.676174 \tValidation Loss: 0.197318\n",
            "Epoch: 9 \tTraining Loss: 0.646096 \tValidation Loss: 0.199880\n",
            "Epoch: 10 \tTraining Loss: 0.618406 \tValidation Loss: 0.207130\n"
          ]
        },
        {
          "data": {
            "text/plain": [
              "\"\\n    # save model if validation loss has decreased\\n    if valid_lossA <= valid_loss_minA:\\n        print('Validation loss decreased ({:.6f} --> {:.6f}).  Saving model ...'.format(\\n        valid_loss_minA,\\n        valid_lossA))\\n        torch.save(modelA.state_dict(), 'model_cifar.pt')\\n        valid_loss_minA = valid_lossA\\n\""
            ]
          },
          "execution_count": 6,
          "metadata": {},
          "output_type": "execute_result"
        }
      ],
      "source": [
        "import torch.optim as optim\n",
        "\n",
        "# specify loss function\n",
        "criterion = nn.CrossEntropyLoss()\n",
        "\n",
        "# specify optimizer\n",
        "optimizerA = optim.SGD(modelA.parameters(), lr=.01)\n",
        "\n",
        "# number of epochs to train the model\n",
        "n_epochs = 10\n",
        "\n",
        "#List to store loss to visualize\n",
        "train_losslistA = []\n",
        "# track change in validation loss\n",
        "valid_loss_minA = np.Inf\n",
        "\n",
        "for epoch in range(1, n_epochs+1):\n",
        "\n",
        "    # keep track of training and validation loss\n",
        "    train_lossA = 0.0\n",
        "    valid_lossA = 0.0\n",
        "    \n",
        "    ###################\n",
        "    # train the model #\n",
        "    ###################\n",
        "    modelA.train()\n",
        "    for data, target in train_loader:\n",
        "        # move tensors to GPU if CUDA is available\n",
        "        if train_on_gpu:\n",
        "            data, target = data.cuda(), target.cuda()\n",
        "        # clear the gradients of all optimized variables\n",
        "        optimizerA.zero_grad()\n",
        "        # forward pass: compute predicted outputs by passing inputs to the model\n",
        "        output = modelA(data)\n",
        "        # calculate the batch loss\n",
        "        lossA = criterion(output, target)\n",
        "        # backward pass: compute gradient of the loss with respect to model parameters\n",
        "        lossA.backward()\n",
        "        # perform a single optimization step (parameter update)\n",
        "        optimizerA.step()\n",
        "        # update training loss\n",
        "        train_lossA += lossA.item()*data.size(0)\n",
        "        \n",
        "    ######################    \n",
        "    # validate the model #\n",
        "    ######################\n",
        "    modelA.eval()\n",
        "    for data, target in valid_loader:\n",
        "        # move tensors to GPU if CUDA is available\n",
        "        if train_on_gpu:\n",
        "            data, target = data.cuda(), target.cuda()\n",
        "        # forward pass: compute predicted outputs by passing inputs to the model\n",
        "        output = modelA(data)\n",
        "        # calculate the batch loss\n",
        "        lossA = criterion(output, target)\n",
        "        # update average validation loss \n",
        "        valid_lossA += lossA.item()*data.size(0)\n",
        "    \n",
        "    # calculate average losses\n",
        "    train_lossA = train_lossA/len(train_loader.dataset)\n",
        "    valid_lossA = valid_lossA/len(valid_loader.dataset)\n",
        "    train_losslistA.append(train_lossA)\n",
        "        \n",
        "    # print training/validation statistics \n",
        "    print('Epoch: {} \\tTraining Loss: {:.6f} \\tValidation Loss: {:.6f}'.format(\n",
        "        epoch, train_lossA, valid_lossA))\n",
        "\n",
        "    # save model if validation loss has decreased\n",
        "    if valid_lossA <= valid_loss_minA:\n",
        "        print('Validation loss decreased ({:.6f} --> {:.6f}).  Saving model ...'.format(\n",
        "        valid_loss_minA,\n",
        "        valid_lossA))\n",
        "        torch.save(modelA.state_dict(), 'model_cifar.pt')\n",
        "        valid_loss_minA = valid_lossA"
      ]
    },
    {
      "cell_type": "code",
      "execution_count": 7,
      "metadata": {
        "colab": {
          "base_uri": "https://localhost:8080/"
        },
        "id": "EUf31uRITt5x",
        "outputId": "a66d38cf-7d2c-4878-e028-e3f2e5a22250"
      },
      "outputs": [
        {
          "name": "stdout",
          "output_type": "stream",
          "text": [
            "Test Loss: 1.052526\n",
            "\n",
            "Test Accuracy of airplane: 63% (637/1000)\n",
            "Test Accuracy of automobile: 86% (860/1000)\n",
            "Test Accuracy of  bird: 45% (456/1000)\n",
            "Test Accuracy of   cat: 47% (478/1000)\n",
            "Test Accuracy of  deer: 57% (572/1000)\n",
            "Test Accuracy of   dog: 54% (545/1000)\n",
            "Test Accuracy of  frog: 82% (827/1000)\n",
            "Test Accuracy of horse: 67% (677/1000)\n",
            "Test Accuracy of  ship: 84% (846/1000)\n",
            "Test Accuracy of truck: 71% (713/1000)\n",
            "\n",
            "Test Accuracy (Overall): 66% (6611/10000)\n"
          ]
        }
      ],
      "source": [
        "# track test loss\n",
        "test_lossA = 0.0\n",
        "class_correctA = list(0. for i in range(10))\n",
        "class_totalA = list(0. for i in range(10))\n",
        "\n",
        "modelA.eval()\n",
        "# iterate over test data\n",
        "for data, target in test_loader:\n",
        "    # move tensors to GPU if CUDA is available\n",
        "    if train_on_gpu:\n",
        "        data, target = data.cuda(), target.cuda()\n",
        "    # forward pass: compute predicted outputs by passing inputs to the model\n",
        "    output = modelA(data)\n",
        "    # calculate the batch loss\n",
        "    loss = criterion(output, target)\n",
        "    # update test loss \n",
        "    test_lossA += loss.item()*data.size(0)\n",
        "    # convert output probabilities to predicted class\n",
        "    _, pred = torch.max(output, 1)    \n",
        "    # compare predictions to true label\n",
        "    correct_tensor = pred.eq(target.data.view_as(pred))\n",
        "    correct = np.squeeze(correct_tensor.numpy()) if not train_on_gpu else np.squeeze(correct_tensor.cpu().numpy())\n",
        "    # calculate test accuracy for each object class\n",
        "    for i in range(batch_size):\n",
        "        label = target.data[i]\n",
        "        class_correctA[label] += correct[i].item()\n",
        "        class_totalA[label] += 1\n",
        "\n",
        "# average test loss\n",
        "test_lossA = test_lossA/len(test_loader.dataset)\n",
        "print('Test Loss: {:.6f}\\n'.format(test_lossA))\n",
        "\n",
        "for i in range(10):\n",
        "    if class_totalA[i] > 0:\n",
        "        print('Test Accuracy of %5s: %2d%% (%2d/%2d)' % (\n",
        "            classes[i], 100 * class_correctA[i] / class_totalA[i],\n",
        "            np.sum(class_correctA[i]), np.sum(class_totalA[i])))\n",
        "    else:\n",
        "        print('Test Accuracy of %5s: N/A (no training examples)' % (classes[i]))\n",
        "\n",
        "print('\\nTest Accuracy (Overall): %2d%% (%2d/%2d)' % (\n",
        "    100. * np.sum(class_correctA) / np.sum(class_totalA),\n",
        "    np.sum(class_correctA), np.sum(class_totalA)))"
      ]
    },
    {
      "cell_type": "code",
      "execution_count": 8,
      "metadata": {
        "colab": {
          "base_uri": "https://localhost:8080/"
        },
        "id": "YJDUysTVTyvg",
        "outputId": "a674b080-b0ca-4943-b737-efd1d729d47d"
      },
      "outputs": [
        {
          "name": "stdout",
          "output_type": "stream",
          "text": [
            "Net(\n",
            "  (network): Sequential(\n",
            "    (0): Conv2d(3, 32, kernel_size=(3, 3), stride=(1, 1))\n",
            "    (1): Conv2d(32, 64, kernel_size=(3, 3), stride=(1, 1))\n",
            "    (2): MaxPool2d(kernel_size=3, stride=1, padding=0, dilation=1, ceil_mode=False)\n",
            "    (3): Conv2d(64, 128, kernel_size=(3, 3), stride=(1, 1))\n",
            "    (4): Conv2d(128, 256, kernel_size=(3, 3), stride=(1, 1))\n",
            "    (5): MaxPool2d(kernel_size=3, stride=1, padding=0, dilation=1, ceil_mode=False)\n",
            "    (6): Flatten(start_dim=1, end_dim=-1)\n",
            "    (7): Linear(in_features=102400, out_features=10, bias=True)\n",
            "  )\n",
            ")\n"
          ]
        }
      ],
      "source": [
        "\"\"\" \n",
        "    PART-B: CONV-CONV-POOL-CONV-CONV-POOL-FC\n",
        "\"\"\"\n",
        "\n",
        "class Net(nn.Module):\n",
        "  def __init__(self):\n",
        "    super().__init__()\n",
        "    self.network=nn.Sequential(\n",
        "        nn.Conv2d(3, 32, kernel_size=3, stride=1),\n",
        "        nn.Conv2d(32,64,kernel_size=3, stride=1),\n",
        "        nn.MaxPool2d(3, stride=1),\n",
        "        nn.Conv2d(64,128,kernel_size=3, stride=1),\n",
        "        nn.Conv2d(128,256,kernel_size=3, stride=1),\n",
        "        nn.MaxPool2d(3, stride=1),\n",
        "        nn.Flatten(),\n",
        "        nn.Linear(102400, 10)\n",
        "        )\n",
        "        \n",
        "  \n",
        "  def forward(self, x):\n",
        "    return self.network(x)\n",
        "\n",
        "#Creating a CNN architecture\n",
        "modelB = Net()\n",
        "print(modelB)\n",
        "\n",
        "if train_on_gpu:\n",
        "  modelB.cuda()"
      ]
    },
    {
      "cell_type": "code",
      "execution_count": 9,
      "metadata": {
        "colab": {
          "base_uri": "https://localhost:8080/"
        },
        "id": "SUf5vv7aT1fn",
        "outputId": "b4b3d0c3-8aeb-4bf3-a131-cf8caff740bb"
      },
      "outputs": [
        {
          "name": "stdout",
          "output_type": "stream",
          "text": [
            "Epoch: 1 \tTraining Loss: 1.155493 \tValidation Loss: 0.253635\n",
            "Epoch: 2 \tTraining Loss: 0.916485 \tValidation Loss: 0.222744\n",
            "Epoch: 3 \tTraining Loss: 0.836632 \tValidation Loss: 0.216842\n",
            "Epoch: 4 \tTraining Loss: 0.782524 \tValidation Loss: 0.208478\n",
            "Epoch: 5 \tTraining Loss: 0.738725 \tValidation Loss: 0.203337\n",
            "Epoch: 6 \tTraining Loss: 0.696000 \tValidation Loss: 0.197093\n",
            "Epoch: 7 \tTraining Loss: 0.657934 \tValidation Loss: 0.202344\n",
            "Epoch: 8 \tTraining Loss: 0.619264 \tValidation Loss: 0.208906\n",
            "Epoch: 9 \tTraining Loss: 0.580340 \tValidation Loss: 0.208559\n",
            "Epoch: 10 \tTraining Loss: 0.543388 \tValidation Loss: 0.211013\n"
          ]
        },
        {
          "data": {
            "text/plain": [
              "\"\\n    # save model if validation loss has decreased\\n    if valid_lossB <= valid_loss_minB:\\n        print('Validation loss decreased ({:.6f} --> {:.6f}).  Saving model ...'.format(\\n        valid_loss_minB,\\n        valid_lossB))\\n        torch.save(modelB.state_dict(), 'model_cifar.pt')\\n        valid_loss_minB = valid_lossB\\n\""
            ]
          },
          "execution_count": 9,
          "metadata": {},
          "output_type": "execute_result"
        }
      ],
      "source": [
        "# specify optimizer\n",
        "optimizerB = optim.SGD(modelB.parameters(), lr=.01)\n",
        "\n",
        "# number of epochs to train the model\n",
        "n_epochs = 10\n",
        "\n",
        "#List to store loss to visualize\n",
        "train_losslistB = []\n",
        "valid_loss_minB = np.Inf # track change in validation loss\n",
        "\n",
        "for epoch in range(1, n_epochs+1):\n",
        "\n",
        "    # keep track of training and validation loss\n",
        "    train_lossB = 0.0\n",
        "    valid_lossB = 0.0\n",
        "    \n",
        "    ###################\n",
        "    # train the model #\n",
        "    ###################\n",
        "    modelB.train()\n",
        "    for data, target in train_loader:\n",
        "        # move tensors to GPU if CUDA is available\n",
        "        if train_on_gpu:\n",
        "            data, target = data.cuda(), target.cuda()\n",
        "        # clear the gradients of all optimized variables\n",
        "        optimizerB.zero_grad()\n",
        "        # forward pass: compute predicted outputs by passing inputs to the model\n",
        "        output = modelB(data)\n",
        "        # calculate the batch loss\n",
        "        lossB = criterion(output, target)\n",
        "        # backward pass: compute gradient of the loss with respect to model parameters\n",
        "        lossB.backward()\n",
        "        # perform a single optimization step (parameter update)\n",
        "        optimizerB.step()\n",
        "        # update training loss\n",
        "        train_lossB += lossB.item()*data.size(0)\n",
        "        \n",
        "    ######################    \n",
        "    # validate the model #\n",
        "    ######################\n",
        "    modelB.eval()\n",
        "    for data, target in valid_loader:\n",
        "        # move tensors to GPU if CUDA is available\n",
        "        if train_on_gpu:\n",
        "            data, target = data.cuda(), target.cuda()\n",
        "        # forward pass: compute predicted outputs by passing inputs to the model\n",
        "        output = modelB(data)\n",
        "        # calculate the batch loss\n",
        "        lossB = criterion(output, target)\n",
        "        # update average validation loss \n",
        "        valid_lossB += lossB.item()*data.size(0)\n",
        "    \n",
        "    # calculate average losses\n",
        "    train_lossB = train_lossB/len(train_loader.dataset)\n",
        "    valid_lossB = valid_lossB/len(valid_loader.dataset)\n",
        "    train_losslistB.append(train_lossB)\n",
        "        \n",
        "    # print training/validation statistics \n",
        "    print('Epoch: {} \\tTraining Loss: {:.6f} \\tValidation Loss: {:.6f}'.format(\n",
        "        epoch, train_lossB, valid_lossB))\n",
        "        \n",
        "    # save model if validation loss has decreased\n",
        "    if valid_lossB <= valid_loss_minB:\n",
        "        print('Validation loss decreased ({:.6f} --> {:.6f}).  Saving model ...'.format(\n",
        "        valid_loss_minB,\n",
        "        valid_lossB))\n",
        "        torch.save(modelB.state_dict(), 'model_cifar.pt')\n",
        "        valid_loss_minB = valid_lossB"
      ]
    },
    {
      "cell_type": "code",
      "execution_count": 10,
      "metadata": {
        "colab": {
          "base_uri": "https://localhost:8080/"
        },
        "id": "8WJuOEmMUETl",
        "outputId": "649f66d6-5090-471e-b3fe-90db1df61315"
      },
      "outputs": [
        {
          "name": "stdout",
          "output_type": "stream",
          "text": [
            "Test Loss: 1.015917\n",
            "\n",
            "Test Accuracy of airplane: 61% (617/1000)\n",
            "Test Accuracy of automobile: 74% (747/1000)\n",
            "Test Accuracy of  bird: 53% (530/1000)\n",
            "Test Accuracy of   cat: 54% (540/1000)\n",
            "Test Accuracy of  deer: 58% (589/1000)\n",
            "Test Accuracy of   dog: 51% (517/1000)\n",
            "Test Accuracy of  frog: 85% (856/1000)\n",
            "Test Accuracy of horse: 71% (718/1000)\n",
            "Test Accuracy of  ship: 83% (830/1000)\n",
            "Test Accuracy of truck: 78% (784/1000)\n",
            "\n",
            "Test Accuracy (Overall): 67% (6728/10000)\n"
          ]
        }
      ],
      "source": [
        "# track test loss\n",
        "test_lossB = 0.0\n",
        "class_correctB = list(0. for i in range(10))\n",
        "class_totalB = list(0. for i in range(10))\n",
        "\n",
        "modelB.eval()\n",
        "# iterate over test data\n",
        "for data, target in test_loader:\n",
        "    # move tensors to GPU if CUDA is available\n",
        "    if train_on_gpu:\n",
        "        data, target = data.cuda(), target.cuda()\n",
        "    # forward pass: compute predicted outputs by passing inputs to the model\n",
        "    output = modelB(data)\n",
        "    # calculate the batch loss\n",
        "    lossB = criterion(output, target)\n",
        "    # update test loss \n",
        "    test_lossB += lossB.item()*data.size(0)\n",
        "    # convert output probabilities to predicted class\n",
        "    _, pred = torch.max(output, 1)    \n",
        "    # compare predictions to true label\n",
        "    correct_tensor = pred.eq(target.data.view_as(pred))\n",
        "    correct = np.squeeze(correct_tensor.numpy()) if not train_on_gpu else np.squeeze(correct_tensor.cpu().numpy())\n",
        "    # calculate test accuracy for each object class\n",
        "    for i in range(batch_size):\n",
        "        label = target.data[i]\n",
        "        class_correctB[label] += correct[i].item()\n",
        "        class_totalB[label] += 1\n",
        "\n",
        "# average test loss\n",
        "test_lossB = test_lossB/len(test_loader.dataset)\n",
        "print('Test Loss: {:.6f}\\n'.format(test_lossB))\n",
        "\n",
        "for i in range(10):\n",
        "    if class_totalB[i] > 0:\n",
        "        print('Test Accuracy of %5s: %2d%% (%2d/%2d)' % (\n",
        "            classes[i], 100 * class_correctB[i] / class_totalB[i],\n",
        "            np.sum(class_correctB[i]), np.sum(class_totalB[i])))\n",
        "    else:\n",
        "        print('Test Accuracy of %5s: N/A (no training examples)' % (classes[i]))\n",
        "\n",
        "print('\\nTest Accuracy (Overall): %2d%% (%2d/%2d)' % (\n",
        "    100. * np.sum(class_correctB) / np.sum(class_totalB),\n",
        "    np.sum(class_correctB), np.sum(class_totalB)))"
      ]
    },
    {
      "cell_type": "code",
      "execution_count": 11,
      "metadata": {
        "colab": {
          "base_uri": "https://localhost:8080/"
        },
        "id": "foXz2pMPUOA4",
        "outputId": "df21b87e-36d1-4df2-c6ed-bf78b4241c9f"
      },
      "outputs": [
        {
          "name": "stdout",
          "output_type": "stream",
          "text": [
            "NetC(\n",
            "  (network): Sequential(\n",
            "    (0): Conv2d(3, 32, kernel_size=(3, 3), stride=(1, 1))\n",
            "    (1): MaxPool2d(kernel_size=3, stride=1, padding=0, dilation=1, ceil_mode=False)\n",
            "    (2): Conv2d(32, 64, kernel_size=(3, 3), stride=(1, 1))\n",
            "    (3): MaxPool2d(kernel_size=3, stride=1, padding=0, dilation=1, ceil_mode=False)\n",
            "    (4): Conv2d(64, 128, kernel_size=(3, 3), stride=(1, 1))\n",
            "    (5): MaxPool2d(kernel_size=3, stride=1, padding=0, dilation=1, ceil_mode=False)\n",
            "    (6): Flatten(start_dim=1, end_dim=-1)\n",
            "    (7): Linear(in_features=51200, out_features=10, bias=True)\n",
            "    (8): Flatten(start_dim=1, end_dim=-1)\n",
            "    (9): Linear(in_features=10, out_features=25600, bias=True)\n",
            "  )\n",
            ")\n"
          ]
        }
      ],
      "source": [
        "import torch.nn as nn\n",
        "\n",
        "\"\"\" \n",
        "      PART-C: CONV-POOL-CONV-POOL-CONV-POOL-FC-FC\n",
        "\"\"\"\n",
        "\n",
        "\n",
        "# define the CNN architecture\n",
        "class NetC(nn.Module):\n",
        "  def __init__(self):\n",
        "    super().__init__()\n",
        "    self.network=nn.Sequential(\n",
        "        nn.Conv2d(3, 32, kernel_size=3, stride=1),\n",
        "        nn.MaxPool2d(3, stride=1),\n",
        "        nn.Conv2d(32, 64, kernel_size=3, stride=1),\n",
        "        nn.MaxPool2d(3, stride=1),\n",
        "        nn.Conv2d(64, 128, kernel_size=3, stride=1),\n",
        "        nn.MaxPool2d(3, stride=1),\n",
        "        nn.Flatten(),\n",
        "        nn.Linear(51200, 10),\n",
        "        nn.Flatten(),\n",
        "        nn.Linear(10, 25600))\n",
        "  \n",
        "  def forward(self, x):\n",
        "    return self.network(x)\n",
        "\n",
        "#Creating a CNN architecture\n",
        "modelC = NetC()\n",
        "print(modelC)\n",
        "\n",
        "if train_on_gpu:\n",
        "  modelC.cuda()"
      ]
    },
    {
      "cell_type": "code",
      "execution_count": 12,
      "metadata": {
        "colab": {
          "base_uri": "https://localhost:8080/"
        },
        "id": "apKXx4IbUeo_",
        "outputId": "6c2e9a75-73ea-44e2-aea1-cb22926e563a"
      },
      "outputs": [
        {
          "name": "stdout",
          "output_type": "stream",
          "text": [
            "Epoch: 1 \tTraining Loss: 1.437564 \tValidation Loss: 0.269029\n",
            "Validation loss decreased (inf --> 0.269029).  Saving model ...\n",
            "Epoch: 2 \tTraining Loss: 0.998575 \tValidation Loss: 0.234794\n",
            "Validation loss decreased (0.269029 --> 0.234794).  Saving model ...\n",
            "Epoch: 3 \tTraining Loss: 0.901391 \tValidation Loss: 0.234114\n",
            "Validation loss decreased (0.234794 --> 0.234114).  Saving model ...\n",
            "Epoch: 4 \tTraining Loss: 0.845825 \tValidation Loss: 0.208939\n",
            "Validation loss decreased (0.234114 --> 0.208939).  Saving model ...\n",
            "Epoch: 5 \tTraining Loss: 0.802751 \tValidation Loss: 0.218956\n",
            "Epoch: 6 \tTraining Loss: 0.772292 \tValidation Loss: 0.206179\n",
            "Validation loss decreased (0.208939 --> 0.206179).  Saving model ...\n",
            "Epoch: 7 \tTraining Loss: 0.739164 \tValidation Loss: 0.205776\n",
            "Validation loss decreased (0.206179 --> 0.205776).  Saving model ...\n",
            "Epoch: 8 \tTraining Loss: 0.710734 \tValidation Loss: 0.193656\n",
            "Validation loss decreased (0.205776 --> 0.193656).  Saving model ...\n",
            "Epoch: 9 \tTraining Loss: 0.682539 \tValidation Loss: 0.205552\n",
            "Epoch: 10 \tTraining Loss: 0.660954 \tValidation Loss: 0.203138\n"
          ]
        }
      ],
      "source": [
        "# specify optimizer\n",
        "optimizerC = optim.SGD(modelC.parameters(), lr=.01)\n",
        "\n",
        "# number of epochs to train the model\n",
        "n_epochs = 10\n",
        "\n",
        "#List to store loss to visualize\n",
        "train_losslistC = []\n",
        "valid_loss_minC = np.Inf # track change in validation loss\n",
        "\n",
        "for epoch in range(1, n_epochs+1):\n",
        "\n",
        "    # keep track of training and validation loss\n",
        "    train_lossC = 0.0\n",
        "    valid_lossC = 0.0\n",
        "    \n",
        "    ###################\n",
        "    # train the model #\n",
        "    ###################\n",
        "    modelC.train()\n",
        "    for data, target in train_loader:\n",
        "        # move tensors to GPU if CUDA is available\n",
        "        if train_on_gpu:\n",
        "            data, target = data.cuda(), target.cuda()\n",
        "        # clear the gradients of all optimized variables\n",
        "        optimizerC.zero_grad()\n",
        "        # forward pass: compute predicted outputs by passing inputs to the model\n",
        "        output = modelC(data)\n",
        "        # calculate the batch loss\n",
        "        lossC = criterion(output, target)\n",
        "        # backward pass: compute gradient of the loss with respect to model parameters\n",
        "        lossC.backward()\n",
        "        # perform a single optimization step (parameter update)\n",
        "        optimizerC.step()\n",
        "        # update training loss\n",
        "        train_lossC += lossC.item()*data.size(0)\n",
        "        \n",
        "    ######################    \n",
        "    # validate the model #\n",
        "    ######################\n",
        "    modelC.eval()\n",
        "    for data, target in valid_loader:\n",
        "        # move tensors to GPU if CUDA is available\n",
        "        if train_on_gpu:\n",
        "            data, target = data.cuda(), target.cuda()\n",
        "        # forward pass: compute predicted outputs by passing inputs to the model\n",
        "        output = modelC(data)\n",
        "        # calculate the batch loss\n",
        "        lossC = criterion(output, target)\n",
        "        # update average validation loss \n",
        "        valid_lossC += lossC.item()*data.size(0)\n",
        "    \n",
        "    # calculate average losses\n",
        "    train_lossC = train_lossC/len(train_loader.dataset)\n",
        "    valid_lossC = valid_lossC/len(valid_loader.dataset)\n",
        "    train_losslistC.append(train_lossC)\n",
        "        \n",
        "    # print training/validation statistics \n",
        "    print('Epoch: {} \\tTraining Loss: {:.6f} \\tValidation Loss: {:.6f}'.format(\n",
        "        epoch, train_lossC, valid_lossC))\n",
        "        \n",
        "    # save model if validation loss has decreased\n",
        "    if valid_lossC <= valid_loss_minC:\n",
        "        print('Validation loss decreased ({:.6f} --> {:.6f}).  Saving model ...'.format(\n",
        "        valid_loss_minC,\n",
        "        valid_lossC))\n",
        "        torch.save(modelC.state_dict(), 'model_cifar.pt')\n",
        "        valid_loss_minC = valid_lossC"
      ]
    },
    {
      "cell_type": "code",
      "execution_count": 15,
      "metadata": {
        "colab": {
          "base_uri": "https://localhost:8080/"
        },
        "id": "feuAXrChUypq",
        "outputId": "f717b99d-db52-43e5-f018-977c736092de"
      },
      "outputs": [
        {
          "name": "stdout",
          "output_type": "stream",
          "text": [
            "Test Loss: 1.011180\n",
            "\n",
            "Test Accuracy of airplane: 73% (736/1000)\n",
            "Test Accuracy of automobile: 74% (741/1000)\n",
            "Test Accuracy of  bird: 43% (434/1000)\n",
            "Test Accuracy of   cat: 46% (464/1000)\n",
            "Test Accuracy of  deer: 58% (588/1000)\n",
            "Test Accuracy of   dog: 61% (617/1000)\n",
            "Test Accuracy of  frog: 86% (862/1000)\n",
            "Test Accuracy of horse: 62% (620/1000)\n",
            "Test Accuracy of  ship: 75% (755/1000)\n",
            "Test Accuracy of truck: 77% (773/1000)\n",
            "\n",
            "Test Accuracy (Overall): 65% (6590/10000)\n"
          ]
        }
      ],
      "source": [
        "# track test loss\n",
        "test_lossC = 0.0\n",
        "class_correctC = list(0. for i in range(10))\n",
        "class_totalC = list(0. for i in range(10))\n",
        "\n",
        "modelC.eval()\n",
        "# iterate over test data\n",
        "for data, target in test_loader:\n",
        "    # move tensors to GPU if CUDA is available\n",
        "    if train_on_gpu:\n",
        "        data, target = data.cuda(), target.cuda()\n",
        "    # forward pass: compute predicted outputs by passing inputs to the model\n",
        "    output = modelC(data)\n",
        "    # calculate the batch loss\n",
        "    lossC = criterion(output, target)\n",
        "    # update test loss \n",
        "    test_lossC += lossC.item()*data.size(0)\n",
        "    # convert output probabilities to predicted class\n",
        "    _, pred = torch.max(output, 1)    \n",
        "    # compare predictions to true label\n",
        "    correct_tensor = pred.eq(target.data.view_as(pred))\n",
        "    correct = np.squeeze(correct_tensor.numpy()) if not train_on_gpu else np.squeeze(correct_tensor.cpu().numpy())\n",
        "    # calculate test accuracy for each object class\n",
        "    for i in range(batch_size):\n",
        "        label = target.data[i]\n",
        "        class_correctC[label] += correct[i].item()\n",
        "        class_totalC[label] += 1\n",
        "\n",
        "# average test loss\n",
        "test_lossC = test_lossC/len(test_loader.dataset)\n",
        "print('Test Loss: {:.6f}\\n'.format(test_lossC))\n",
        "\n",
        "for i in range(10):\n",
        "    if class_totalC[i] > 0:\n",
        "        print('Test Accuracy of %5s: %2d%% (%2d/%2d)' % (\n",
        "            classes[i], 100 * class_correctC[i] / class_totalC[i],\n",
        "            np.sum(class_correctC[i]), np.sum(class_totalC[i])))\n",
        "    else:\n",
        "        print('Test Accuracy of %5s: N/A (no training examples)' % (classes[i]))\n",
        "\n",
        "print('\\nTest Accuracy (Overall): %2d%% (%2d/%2d)' % (\n",
        "    100. * np.sum(class_correctC) / np.sum(class_totalC),\n",
        "    np.sum(class_correctC), np.sum(class_totalC)))"
      ]
    },
    {
      "cell_type": "markdown",
      "metadata": {},
      "source": [
        "Reference: https://shonit2096.medium.com/cnn-on-cifar10-data-set-using-pytorch-34be87e09844"
      ]
    }
  ],
  "metadata": {
    "accelerator": "GPU",
    "colab": {
      "collapsed_sections": [],
      "provenance": []
    },
    "kernelspec": {
      "display_name": "Python 3",
      "name": "python3"
    },
    "language_info": {
      "codemirror_mode": {
        "name": "ipython",
        "version": 3
      },
      "file_extension": ".py",
      "mimetype": "text/x-python",
      "name": "python",
      "nbconvert_exporter": "python",
      "pygments_lexer": "ipython3",
      "version": "3.10.7"
    },
    "widgets": {
      "application/vnd.jupyter.widget-state+json": {
        "188074b78a0049b0b0a124ee40f207f3": {
          "model_module": "@jupyter-widgets/base",
          "model_module_version": "1.2.0",
          "model_name": "LayoutModel",
          "state": {
            "_model_module": "@jupyter-widgets/base",
            "_model_module_version": "1.2.0",
            "_model_name": "LayoutModel",
            "_view_count": null,
            "_view_module": "@jupyter-widgets/base",
            "_view_module_version": "1.2.0",
            "_view_name": "LayoutView",
            "align_content": null,
            "align_items": null,
            "align_self": null,
            "border": null,
            "bottom": null,
            "display": null,
            "flex": null,
            "flex_flow": null,
            "grid_area": null,
            "grid_auto_columns": null,
            "grid_auto_flow": null,
            "grid_auto_rows": null,
            "grid_column": null,
            "grid_gap": null,
            "grid_row": null,
            "grid_template_areas": null,
            "grid_template_columns": null,
            "grid_template_rows": null,
            "height": null,
            "justify_content": null,
            "justify_items": null,
            "left": null,
            "margin": null,
            "max_height": null,
            "max_width": null,
            "min_height": null,
            "min_width": null,
            "object_fit": null,
            "object_position": null,
            "order": null,
            "overflow": null,
            "overflow_x": null,
            "overflow_y": null,
            "padding": null,
            "right": null,
            "top": null,
            "visibility": null,
            "width": null
          }
        },
        "1cef08584a454ba5be684c3b854e6466": {
          "model_module": "@jupyter-widgets/controls",
          "model_module_version": "1.5.0",
          "model_name": "FloatProgressModel",
          "state": {
            "_dom_classes": [],
            "_model_module": "@jupyter-widgets/controls",
            "_model_module_version": "1.5.0",
            "_model_name": "FloatProgressModel",
            "_view_count": null,
            "_view_module": "@jupyter-widgets/controls",
            "_view_module_version": "1.5.0",
            "_view_name": "ProgressView",
            "bar_style": "success",
            "description": "",
            "description_tooltip": null,
            "layout": "IPY_MODEL_3be6be46a7ab4a2fadc81f5dd10d4f0c",
            "max": 170498071,
            "min": 0,
            "orientation": "horizontal",
            "style": "IPY_MODEL_e3e7daf2528744bfac0ce5301af7daeb",
            "value": 170498071
          }
        },
        "3be6be46a7ab4a2fadc81f5dd10d4f0c": {
          "model_module": "@jupyter-widgets/base",
          "model_module_version": "1.2.0",
          "model_name": "LayoutModel",
          "state": {
            "_model_module": "@jupyter-widgets/base",
            "_model_module_version": "1.2.0",
            "_model_name": "LayoutModel",
            "_view_count": null,
            "_view_module": "@jupyter-widgets/base",
            "_view_module_version": "1.2.0",
            "_view_name": "LayoutView",
            "align_content": null,
            "align_items": null,
            "align_self": null,
            "border": null,
            "bottom": null,
            "display": null,
            "flex": null,
            "flex_flow": null,
            "grid_area": null,
            "grid_auto_columns": null,
            "grid_auto_flow": null,
            "grid_auto_rows": null,
            "grid_column": null,
            "grid_gap": null,
            "grid_row": null,
            "grid_template_areas": null,
            "grid_template_columns": null,
            "grid_template_rows": null,
            "height": null,
            "justify_content": null,
            "justify_items": null,
            "left": null,
            "margin": null,
            "max_height": null,
            "max_width": null,
            "min_height": null,
            "min_width": null,
            "object_fit": null,
            "object_position": null,
            "order": null,
            "overflow": null,
            "overflow_x": null,
            "overflow_y": null,
            "padding": null,
            "right": null,
            "top": null,
            "visibility": null,
            "width": null
          }
        },
        "42610cd6b21044dc95adf01833890dbb": {
          "model_module": "@jupyter-widgets/controls",
          "model_module_version": "1.5.0",
          "model_name": "HTMLModel",
          "state": {
            "_dom_classes": [],
            "_model_module": "@jupyter-widgets/controls",
            "_model_module_version": "1.5.0",
            "_model_name": "HTMLModel",
            "_view_count": null,
            "_view_module": "@jupyter-widgets/controls",
            "_view_module_version": "1.5.0",
            "_view_name": "HTMLView",
            "description": "",
            "description_tooltip": null,
            "layout": "IPY_MODEL_188074b78a0049b0b0a124ee40f207f3",
            "placeholder": "​",
            "style": "IPY_MODEL_5d6305e1d7d24f9a85b09775f8eb9ef0",
            "value": " 170498071/170498071 [00:13&lt;00:00, 13467594.84it/s]"
          }
        },
        "5d6305e1d7d24f9a85b09775f8eb9ef0": {
          "model_module": "@jupyter-widgets/controls",
          "model_module_version": "1.5.0",
          "model_name": "DescriptionStyleModel",
          "state": {
            "_model_module": "@jupyter-widgets/controls",
            "_model_module_version": "1.5.0",
            "_model_name": "DescriptionStyleModel",
            "_view_count": null,
            "_view_module": "@jupyter-widgets/base",
            "_view_module_version": "1.2.0",
            "_view_name": "StyleView",
            "description_width": ""
          }
        },
        "86444d0a928d475e99d3b71adee28bde": {
          "model_module": "@jupyter-widgets/controls",
          "model_module_version": "1.5.0",
          "model_name": "HBoxModel",
          "state": {
            "_dom_classes": [],
            "_model_module": "@jupyter-widgets/controls",
            "_model_module_version": "1.5.0",
            "_model_name": "HBoxModel",
            "_view_count": null,
            "_view_module": "@jupyter-widgets/controls",
            "_view_module_version": "1.5.0",
            "_view_name": "HBoxView",
            "box_style": "",
            "children": [
              "IPY_MODEL_8a6165a9642c450785325e26267493b0",
              "IPY_MODEL_1cef08584a454ba5be684c3b854e6466",
              "IPY_MODEL_42610cd6b21044dc95adf01833890dbb"
            ],
            "layout": "IPY_MODEL_e7d0bf9f63cd40d0acb67d17956e2b6b"
          }
        },
        "8a6165a9642c450785325e26267493b0": {
          "model_module": "@jupyter-widgets/controls",
          "model_module_version": "1.5.0",
          "model_name": "HTMLModel",
          "state": {
            "_dom_classes": [],
            "_model_module": "@jupyter-widgets/controls",
            "_model_module_version": "1.5.0",
            "_model_name": "HTMLModel",
            "_view_count": null,
            "_view_module": "@jupyter-widgets/controls",
            "_view_module_version": "1.5.0",
            "_view_name": "HTMLView",
            "description": "",
            "description_tooltip": null,
            "layout": "IPY_MODEL_a1262de6c4424de7b27cda86a3333aca",
            "placeholder": "​",
            "style": "IPY_MODEL_d4dbf437d6ef4083adcfa17f9ee0dbc8",
            "value": "100%"
          }
        },
        "a1262de6c4424de7b27cda86a3333aca": {
          "model_module": "@jupyter-widgets/base",
          "model_module_version": "1.2.0",
          "model_name": "LayoutModel",
          "state": {
            "_model_module": "@jupyter-widgets/base",
            "_model_module_version": "1.2.0",
            "_model_name": "LayoutModel",
            "_view_count": null,
            "_view_module": "@jupyter-widgets/base",
            "_view_module_version": "1.2.0",
            "_view_name": "LayoutView",
            "align_content": null,
            "align_items": null,
            "align_self": null,
            "border": null,
            "bottom": null,
            "display": null,
            "flex": null,
            "flex_flow": null,
            "grid_area": null,
            "grid_auto_columns": null,
            "grid_auto_flow": null,
            "grid_auto_rows": null,
            "grid_column": null,
            "grid_gap": null,
            "grid_row": null,
            "grid_template_areas": null,
            "grid_template_columns": null,
            "grid_template_rows": null,
            "height": null,
            "justify_content": null,
            "justify_items": null,
            "left": null,
            "margin": null,
            "max_height": null,
            "max_width": null,
            "min_height": null,
            "min_width": null,
            "object_fit": null,
            "object_position": null,
            "order": null,
            "overflow": null,
            "overflow_x": null,
            "overflow_y": null,
            "padding": null,
            "right": null,
            "top": null,
            "visibility": null,
            "width": null
          }
        },
        "d4dbf437d6ef4083adcfa17f9ee0dbc8": {
          "model_module": "@jupyter-widgets/controls",
          "model_module_version": "1.5.0",
          "model_name": "DescriptionStyleModel",
          "state": {
            "_model_module": "@jupyter-widgets/controls",
            "_model_module_version": "1.5.0",
            "_model_name": "DescriptionStyleModel",
            "_view_count": null,
            "_view_module": "@jupyter-widgets/base",
            "_view_module_version": "1.2.0",
            "_view_name": "StyleView",
            "description_width": ""
          }
        },
        "e3e7daf2528744bfac0ce5301af7daeb": {
          "model_module": "@jupyter-widgets/controls",
          "model_module_version": "1.5.0",
          "model_name": "ProgressStyleModel",
          "state": {
            "_model_module": "@jupyter-widgets/controls",
            "_model_module_version": "1.5.0",
            "_model_name": "ProgressStyleModel",
            "_view_count": null,
            "_view_module": "@jupyter-widgets/base",
            "_view_module_version": "1.2.0",
            "_view_name": "StyleView",
            "bar_color": null,
            "description_width": ""
          }
        },
        "e7d0bf9f63cd40d0acb67d17956e2b6b": {
          "model_module": "@jupyter-widgets/base",
          "model_module_version": "1.2.0",
          "model_name": "LayoutModel",
          "state": {
            "_model_module": "@jupyter-widgets/base",
            "_model_module_version": "1.2.0",
            "_model_name": "LayoutModel",
            "_view_count": null,
            "_view_module": "@jupyter-widgets/base",
            "_view_module_version": "1.2.0",
            "_view_name": "LayoutView",
            "align_content": null,
            "align_items": null,
            "align_self": null,
            "border": null,
            "bottom": null,
            "display": null,
            "flex": null,
            "flex_flow": null,
            "grid_area": null,
            "grid_auto_columns": null,
            "grid_auto_flow": null,
            "grid_auto_rows": null,
            "grid_column": null,
            "grid_gap": null,
            "grid_row": null,
            "grid_template_areas": null,
            "grid_template_columns": null,
            "grid_template_rows": null,
            "height": null,
            "justify_content": null,
            "justify_items": null,
            "left": null,
            "margin": null,
            "max_height": null,
            "max_width": null,
            "min_height": null,
            "min_width": null,
            "object_fit": null,
            "object_position": null,
            "order": null,
            "overflow": null,
            "overflow_x": null,
            "overflow_y": null,
            "padding": null,
            "right": null,
            "top": null,
            "visibility": null,
            "width": null
          }
        }
      }
    }
  },
  "nbformat": 4,
  "nbformat_minor": 0
}
